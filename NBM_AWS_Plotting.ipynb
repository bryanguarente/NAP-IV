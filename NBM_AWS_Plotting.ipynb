{
 "cells": [
  {
   "cell_type": "markdown",
   "metadata": {},
   "source": [
    "## Pygrib NBM Quick Start\n",
    "\n",
    "Quick look at pygrib and National Blended Model data.\n",
    "\n",
    "pygrib is quite finicky to install and should often be the first library you install in your environment.  "
   ]
  },
  {
   "cell_type": "code",
   "execution_count": null,
   "metadata": {},
   "outputs": [],
   "source": [
    "import pygrib\n",
    "import os,glob\n",
    "import boto3, botocore\n",
    "import datetime\n",
    "\n",
    "import cartopy.crs as ccrs\n",
    "import cartopy.feature as cfeature\n",
    "import cartopy.io.shapereader as shpreader\n",
    "import matplotlib.pyplot as plt\n",
    "from matplotlib.colors import BoundaryNorm\n",
    "import numpy as np\n",
    "import ipywidgets as widgets\n",
    "from metpy.plots import ImagePlot, ContourPlot, MapPanel, PanelContainer\n",
    "\n",
    "to_proj = ccrs.AlbersEqualArea(central_longitude=-97., central_latitude=38.)"
   ]
  },
  {
   "cell_type": "markdown",
   "metadata": {},
   "source": [
    "## Change the following line to point to where you would like your files saved locally."
   ]
  },
  {
   "cell_type": "code",
   "execution_count": null,
   "metadata": {},
   "outputs": [],
   "source": [
    "os.chdir('/path/to/put/downloaded/data')"
   ]
  },
  {
   "cell_type": "markdown",
   "metadata": {},
   "source": [
    "## The following shape files can be found online here:\n",
    "Counties: https://www.census.gov/geographies/mapping-files/time-series/geo/carto-boundary-file.html\n",
    "\n",
    "CWAs: https://www.weather.gov/gis/CWABounds\n",
    "\n",
    "Depending on the files you download and where you end up putting them, adjust the following relative two paths."
   ]
  },
  {
   "cell_type": "code",
   "execution_count": null,
   "metadata": {},
   "outputs": [],
   "source": [
    "reader = shpreader.Reader('./cb_2018_us_county_5m/cb_2018_us_county_5m.shp')\n",
    "counties = list(reader.geometries())\n",
    "COUNTIES = cfeature.ShapelyFeature(counties, ccrs.PlateCarree())\n",
    "\n",
    "reader = shpreader.Reader('./w_10nv20/w_10nv20.shp')\n",
    "cwas = list(reader.geometries())\n",
    "CWAS = cfeature.ShapelyFeature(cwas, ccrs.PlateCarree())"
   ]
  },
  {
   "cell_type": "markdown",
   "metadata": {},
   "source": [
    "## The following cell is for extra map features if you need to add them"
   ]
  },
  {
   "cell_type": "code",
   "execution_count": null,
   "metadata": {},
   "outputs": [],
   "source": [
    "#Build out another background or border set here:\n",
    "\n",
    "#Insert the path to the shapefile here:\n",
    "#reader = shpreader.Reader('./path/to.shp')\n",
    "\n",
    "#Name the shape file variable here\n",
    "#shpFile = list(reader.geometries())\n",
    "\n",
    "#Load just the necessary features into another variable with a projection here\n",
    "#NEW_FEATURES = cfeature.ShapelyFeature(shpFile, ccrs.PlateCarree())\n",
    "\n",
    "#The above line is what you use as your feature in the third to last code cell for adding more features to the map."
   ]
  },
  {
   "cell_type": "markdown",
   "metadata": {},
   "source": [
    "## Set times and paths"
   ]
  },
  {
   "cell_type": "code",
   "execution_count": null,
   "metadata": {},
   "outputs": [],
   "source": [
    "dtNow = datetime.datetime.utcnow()\n",
    "tt = dtNow.timetuple()\n",
    "print(tt)\n",
    "year = tt.tm_year\n",
    "month = int(tt.tm_mon)\n",
    "month = \"{0:0>2}\".format(month)\n",
    "day = int(tt.tm_mday)\n",
    "day = \"{0:0>2}\".format(day)\n",
    "\n",
    "#The following line is set to hour-1 because data tends to not be in the S3 bucket until an hour later.\n",
    "#If data isn't showing up, you can push this back further in time to get data.\n",
    "#It is also possible that you have recently crossed over 00 UTC and this calculation is no longer accurate.\n",
    "hour = int(tt.tm_hour)-1 \n",
    "hour = \"{0:0>2}\".format(hour)\n",
    "\n",
    "#This is the forecast hour you would like to download up to.  \n",
    "fHour = 84\n",
    "fHourLimit = \"{0:0>3}\".format(fHour)\n",
    "\n",
    "#If you need a specific date, use the following lines of code and change the dates and times accordingly.\n",
    "#year = 2022\n",
    "#month = 2\n",
    "#month = \"{0:0>2}\".format(month)\n",
    "#day = 1\n",
    "#day = \"{0:0>2}\".format(day)\n",
    "#hour = 16\n",
    "#hour = \"{0:0>2}\".format(hour)\n",
    "\n",
    "#noaa-nbm-grib2-pds is National Blend of Models products\n",
    "bucketName = \"noaa-nbm-grib2-pds\"\n",
    "\n",
    "#In theory GFS data is also available in AWS... \n",
    "#you could try to change the bucket name and \n",
    "#adjusting the file prefixes in the next code block \n",
    "#to see if you can get GFS data to flow\n",
    "\n",
    "pathName = './data/' + str(year) + str(month) + str(day) + '_' + str(hour) + 'Z'"
   ]
  },
  {
   "cell_type": "markdown",
   "metadata": {},
   "source": [
    "## Grab a list of available GRIB files from S3 bucket\n",
    "AWS S3 bucket access using boto3 requires the use of credentials within an environment variable in your command line.  First you will need to download the AWS CLI, then find more information about how to set those credentials.  I haven't done it in years, so I am not exactly sure how to do it, but there is info out there about this. "
   ]
  },
  {
   "cell_type": "code",
   "execution_count": null,
   "metadata": {
    "scrolled": false
   },
   "outputs": [],
   "source": [
    "s3 = boto3.resource('s3')\n",
    "bucket = s3.Bucket(bucketName)\n",
    "paths = []\n",
    "filenames = []\n",
    "\n",
    "#Use for core products (non-QMD)\n",
    "for obj in bucket.objects.filter(Prefix=\"blend.\" + str(year) + str(month) + str(day) + \"/\" + str(hour) + \n",
    "                                 \"/core/blend.t\" + str(hour) + \"z.core\").all():\n",
    "\n",
    "#Use the following two lines for QMD products.  Comment out the previous two code lines.\n",
    "#for obj in bucket.objects.filter(Prefix=\"blend.\" + str(year) + str(month) + str(day) + \"/\" + str(hour) + \n",
    "#                                 \"/core/blend.t\" + str(hour) + \"z.core\").all():\n",
    "    if obj.key.find('.idx') == -1:\n",
    "        if obj.key.find('.co.') != -1:\n",
    "            paths.append(obj.key)\n",
    "            filename = obj.key.split('/')[-1]\n",
    "            filenames.append(filename)\n",
    "            if obj.key.find('.f'+fHourLimit) != -1:\n",
    "                break"
   ]
  },
  {
   "cell_type": "markdown",
   "metadata": {},
   "source": [
    "## If the folder you will be placing these data files in already exists, then keep moving."
   ]
  },
  {
   "cell_type": "code",
   "execution_count": null,
   "metadata": {},
   "outputs": [],
   "source": [
    "if (os.path.isdir(pathName)):\n",
    "    print(\"Path exists... continuing\")\n",
    "else:\n",
    "    os.mkdir(pathName)"
   ]
  },
  {
   "cell_type": "markdown",
   "metadata": {},
   "source": [
    "## For all the files in the S3 bucket up to the forecast hour limit, loop through and download them."
   ]
  },
  {
   "cell_type": "code",
   "execution_count": null,
   "metadata": {
    "scrolled": false
   },
   "outputs": [],
   "source": [
    "fList = []\n",
    "for i, file in enumerate(filenames):\n",
    "    fList.append(file.split('f')[1].split('.')[0])\n",
    "    if (int(fList[i]) > fHour):\n",
    "        fList.pop()\n",
    "        break\n",
    "\n",
    "for idx, filename in enumerate(filenames):\n",
    "    if os.path.isfile(pathName + \"/\" + filename):\n",
    "        print(\"File exists... continuing\")\n",
    "        continue            \n",
    "    else:            \n",
    "        print(\"downloading \" + str(fList[idx]) + \" of \" + str(fList[-1]))\n",
    "        try:\n",
    "           bucket.download_file(paths[idx], pathName + \"/\" + filename)\n",
    "        except botocore.exceptions.ClientError as e:\n",
    "           if e.response['Error']['Code'] == \"404\":\n",
    "               print(\"The object does not exist.\")\n",
    "           else:\n",
    "               raise"
   ]
  },
  {
   "cell_type": "markdown",
   "metadata": {},
   "source": [
    "## Use ```glob``` to grab the local paths and names of all the NBM files"
   ]
  },
  {
   "cell_type": "code",
   "execution_count": null,
   "metadata": {
    "scrolled": true
   },
   "outputs": [],
   "source": [
    "grb_path = pathName + \"/\"\n",
    "grib_list = sorted(glob.glob(f\"{grb_path}*.grib2\"))\n",
    "print(grib_list)\n",
    "grbs = pygrib.open(grib_list[0])\n",
    "grb = grbs.read()\n",
    "print(grb)"
   ]
  },
  {
   "cell_type": "markdown",
   "metadata": {},
   "source": [
    "## Set up widgets"
   ]
  },
  {
   "cell_type": "code",
   "execution_count": null,
   "metadata": {
    "scrolled": false
   },
   "outputs": [],
   "source": [
    "#Variable Dropdown\n",
    "var_widget = widgets.Dropdown(options=grb, description='Variable', alignment='center')\n",
    "\n",
    "#Colormap Dropdown and reverse scale checkbox\n",
    "colormap_widget = widgets.Dropdown(description='Colormap',\n",
    "                                       options=['viridis', 'plasma', 'inferno', 'magma', 'cividis',\n",
    "                                                 'Greys', 'Purples', 'Blues', 'Greens', 'Oranges', 'Reds',\n",
    "                                                 'YlOrBr', 'YlOrRd', 'OrRd', 'PuRd', 'RdPu', 'BuPu',\n",
    "                                                 'GnBu', 'PuBu', 'YlGnBu', 'PuBuGn', 'BuGn', 'YlGn',\n",
    "                                                 'binary', 'gist_yarg', 'gist_gray', 'gray', 'bone', 'pink',\n",
    "                                                 'spring', 'summer', 'autumn', 'winter', 'cool', 'Wistia',\n",
    "                                                 'hot', 'afmhot', 'gist_heat', 'copper',\n",
    "                                                 'PiYG', 'PRGn', 'BrBG', 'PuOr', 'RdGy', 'RdBu',\n",
    "                                                 'RdYlBu', 'RdYlGn', 'Spectral', 'coolwarm', 'bwr', 'seismic',\n",
    "                                                 'twilight', 'twilight_shifted', 'hsv', \n",
    "                                                 'Pastel1', 'Pastel2', 'Paired', 'Accent',\n",
    "                                                 'Dark2', 'Set1', 'Set2', 'Set3',\n",
    "                                                 'tab10', 'tab20', 'tab20b', 'tab20c',\n",
    "                                                 'flag', 'prism', 'ocean', 'gist_earth', 'terrain', 'gist_stern',\n",
    "                                                 'gnuplot', 'gnuplot2', 'CMRmap', 'cubehelix', 'brg',\n",
    "                                                 'gist_rainbow', 'rainbow', 'jet', 'turbo', 'nipy_spectral',\n",
    "                                                 'gist_ncar'])\n",
    "reverse_colormap_widget = widgets.Checkbox(value=False, description='Reverse Colorscale', \n",
    "                                           disabled=False, indent=True)\n",
    "\n",
    "#colormap max, min, and contour count\n",
    "colormap_max_widget = widgets.FloatText(description=\"maxVal\", value=100, continuous_update=False)\n",
    "colormap_min_widget = widgets.FloatText(description=\"minVal\", value=0, continuous_update=False)\n",
    "colormap_contour_widget = widgets.BoundedIntText(description=\"# of contours\", value=10, min=1, max=100, \n",
    "                                                 continuous_update=False)\n",
    "\n",
    "#map controls\n",
    "map_lat_widget = widgets.SelectionRangeSlider(options=np.arange(-90,91,1), description='Latitude', \n",
    "                                              value=[18,55], disabled=False, continuous_update=False)\n",
    "map_lon_widget = widgets.SelectionRangeSlider(options=np.arange(-180,181,1), description='Longitude', \n",
    "                                              value=[-140,-58], disabled=False, continuous_update=False)\n",
    "\n",
    "#time slider\n",
    "time_widget = widgets.SelectionSlider(options=fList, \n",
    "                                      description='fhour:', \n",
    "                                      disabled=False,\n",
    "                                      continuous_update=False, \n",
    "                                      orientation='horizontal', \n",
    "                                      readout=True, \n",
    "                                      readout_format='d')   \n",
    "\n",
    "#Other widgets that could be added\n",
    "# -- Controls to turn on and off counties and CWAs\n",
    "# -- Controls to control the colors of each of the borders\n",
    "# -- Controls to use max and min from the dataset to control the colorscale"
   ]
  },
  {
   "cell_type": "markdown",
   "metadata": {},
   "source": [
    "## Function to plot data on-the-fly"
   ]
  },
  {
   "cell_type": "code",
   "execution_count": null,
   "metadata": {},
   "outputs": [],
   "source": [
    "def plot(varname='', colormap='', reverse='False', maxval='100', minval='0', conts='1', map_lat='', map_lon='', time='001'):      \n",
    "\n",
    "#Get the grib message number that corresponds to the selected variable\n",
    "    varNum = str(varname).split(':')\n",
    "#Convert to array numbers (0-based)\n",
    "    arrNum = int(varNum[0])-1\n",
    "\n",
    "#Get the time index from within the fList[...fHours...]\n",
    "    timeIndex = fList.index(time)\n",
    "\n",
    "#Open that grb file for reading\n",
    "    grbs = pygrib.open(grib_list[timeIndex])\n",
    "\n",
    "#Read that grb file\n",
    "    grb = grbs.read()\n",
    "\n",
    "#Select just the variable needed and pull out the data values, the lat, and the lon.\n",
    "    grbData = grb[arrNum]\n",
    "    nbm,lat,lon = grbData.data() # -> gets all the plot data in one call\n",
    "    \n",
    "#Get names of the variable and fHour for titling.\n",
    "    varShortName = grbData.shortName\n",
    "    varLongName = grbData.name\n",
    "    fHour = \"{0:0>3}\".format(time)\n",
    "    nbmMax = np.max(nbm)\n",
    "    nbmMin = np.min(nbm)\n",
    "    \n",
    "#Set up plot sizes\n",
    "    fig = plt.figure(figsize=(20, 10))\n",
    "    ax = fig.add_subplot(1,1,1, projection=ccrs.PlateCarree())\n",
    "    ax.set_extent([map_lon[0], map_lon[1], map_lat[0], map_lat[1]])\n",
    "    \n",
    "#Set title on figure.\n",
    "    ax.set_title(str(varLongName)+\" (\"+str(varShortName)+'; max='+str(nbmMax)+', min='+str(nbmMin)+\n",
    "                 ') fHour: ' + str(fHour), size=16)\n",
    "\n",
    "#if colormap needs to be reversed\n",
    "    if reverse==True:\n",
    "        colormap=colormap + \"_r\"\n",
    "    \n",
    "# Contour based on variable chosen\n",
    "    c = ax.contourf(lon, lat, grbData.values, \n",
    "                    np.arange(minval, maxval, (maxval-minval)/conts), \n",
    "                    cmap=colormap, transform=ccrs.PlateCarree())\n",
    "    cb = fig.colorbar(c, ax=ax, shrink=0.7, boundaries=[minval, maxval])\n",
    "        \n",
    "# Add country/coastline, counties, CWA, and state boundaries to the plot\n",
    "    ax.add_feature(cfeature.BORDERS)\n",
    "    ax.add_feature(cfeature.COASTLINE)\n",
    "    ax.add_feature(COUNTIES, facecolor='none', edgecolor='lightsteelblue')\n",
    "    ax.add_feature(CWAS, facecolor='none', edgecolor='gray')\n",
    "    ax.add_feature(cfeature.STATES, edgecolor='black')\n",
    "    \n",
    "#If you need more borders or map backgrounds, \n",
    "#you can replace the \"NEW_FEATURES\" in the below line with your variable\n",
    "#Build the variable out in the fourth code cell at the top of this notebook.\n",
    "#    ax.add_feature(NEW_FEATURES, facecolor='none', edgecolor='lightsteelblue')"
   ]
  },
  {
   "cell_type": "code",
   "execution_count": null,
   "metadata": {},
   "outputs": [],
   "source": [
    "#Function to update the listed variables since each grib file has a different listing of variables.\n",
    "def updateVar(sender, time=''):\n",
    "    var_val = var_widget.value\n",
    "    var_split = str(var_val).split(':')\n",
    "\n",
    "    time = time_widget.value\n",
    "    \n",
    "    count = 0\n",
    "    for check in var_split:\n",
    "        count+=1\n",
    "        if 'fcst' in check:\n",
    "            var_val = ':'.join(var_split[1:count-1])\n",
    "            break\n",
    "\n",
    "    timeIndex = fList.index(time)\n",
    "    grbs = pygrib.open(grib_list[timeIndex])\n",
    "    grb = grbs.read()\n",
    "    \n",
    "    matches = []\n",
    "    for match in grb:\n",
    "        if var_val in str(match):\n",
    "            matches.append(str(match))\n",
    "    \n",
    "    var_widget.options = grb\n",
    "    if len(matches):\n",
    "        var_widget.index = int(matches[0].split(':')[0])-1\n",
    "    else: \n",
    "        var_widget.index = 1\n",
    "time_widget.observe(updateVar, names=['value'])"
   ]
  },
  {
   "cell_type": "markdown",
   "metadata": {},
   "source": [
    "## Build the Interactive Widgets into a viewer"
   ]
  },
  {
   "cell_type": "code",
   "execution_count": null,
   "metadata": {
    "scrolled": false
   },
   "outputs": [],
   "source": [
    "x = widgets.interactive(plot, varname=var_widget, colormap=colormap_widget, reverse=reverse_colormap_widget,\n",
    "                        maxval=colormap_max_widget, minval=colormap_min_widget, conts=colormap_contour_widget, \n",
    "                        map_lat=map_lat_widget, map_lon=map_lon_widget,\n",
    "                        time=time_widget)\n",
    "display(x)"
   ]
  },
  {
   "cell_type": "markdown",
   "metadata": {},
   "source": [
    "### For a partial list of variable transformations from grib list to NBM variable go here:\n",
    "https://docs.google.com/spreadsheets/d/1z9-ASxixoCA2SmCsWmdfAs1s2AY5kLxTPPIrkhUal1k/edit?usp=sharing"
   ]
  },
  {
   "cell_type": "markdown",
   "metadata": {},
   "source": [
    "### To see a visual listing of colorscales, go here:\n",
    "https://matplotlib.org/stable/tutorials/colors/colormaps.html"
   ]
  },
  {
   "cell_type": "code",
   "execution_count": null,
   "metadata": {},
   "outputs": [],
   "source": []
  }
 ],
 "metadata": {
  "kernelspec": {
   "display_name": "Python 3 (ipykernel)",
   "language": "python",
   "name": "python3"
  },
  "language_info": {
   "codemirror_mode": {
    "name": "ipython",
    "version": 3
   },
   "file_extension": ".py",
   "mimetype": "text/x-python",
   "name": "python",
   "nbconvert_exporter": "python",
   "pygments_lexer": "ipython3",
   "version": "3.7.12"
  }
 },
 "nbformat": 4,
 "nbformat_minor": 2
}
